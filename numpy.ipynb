{
 "cells": [
  {
   "cell_type": "code",
   "execution_count": 6,
   "id": "71477d2b-1b69-4b07-b693-327b1a5c21f8",
   "metadata": {},
   "outputs": [
    {
     "name": "stdout",
     "output_type": "stream",
     "text": [
      "[1 2 4 5]\n"
     ]
    }
   ],
   "source": [
    "import numpy as np\n",
    "x=np.array([1,2,4,5])\n",
    "print(x)"
   ]
  },
  {
   "cell_type": "code",
   "execution_count": 8,
   "id": "d9701c19-64ba-448e-80ee-5d041e936d46",
   "metadata": {},
   "outputs": [
    {
     "name": "stdout",
     "output_type": "stream",
     "text": [
      "[[ 1  2  4  5]\n",
      " [11 12 14 15]]\n"
     ]
    }
   ],
   "source": [
    "x1=np.array([[1,2,4,5],[11,12,14,15]])\n",
    "print(x1)"
   ]
  },
  {
   "cell_type": "code",
   "execution_count": 10,
   "id": "4baa3ccc-7701-47a0-8b95-2ff22dd5a71d",
   "metadata": {},
   "outputs": [
    {
     "name": "stdout",
     "output_type": "stream",
     "text": [
      "[[[  1   2   4   5]\n",
      "  [ 11  12  14  15]\n",
      "  [111 112 114 115]]]\n"
     ]
    }
   ],
   "source": [
    "x3=np.array([[[1,2,4,5],[11,12,14,15], [111,112,114,115]]])\n",
    "print(x3)"
   ]
  },
  {
   "cell_type": "code",
   "execution_count": 12,
   "id": "07c1fd06-6d49-4d1e-92b6-108ddba93884",
   "metadata": {},
   "outputs": [
    {
     "name": "stdout",
     "output_type": "stream",
     "text": [
      "1 2 3\n"
     ]
    }
   ],
   "source": [
    "print(x.ndim,x1.ndim,x3.ndim)"
   ]
  },
  {
   "cell_type": "code",
   "execution_count": null,
   "id": "5c50a90e-4874-4aa7-b6e2-7b8e344138ae",
   "metadata": {},
   "outputs": [],
   "source": []
  }
 ],
 "metadata": {
  "kernelspec": {
   "display_name": "Python [conda env:base] *",
   "language": "python",
   "name": "conda-base-py"
  },
  "language_info": {
   "codemirror_mode": {
    "name": "ipython",
    "version": 3
   },
   "file_extension": ".py",
   "mimetype": "text/x-python",
   "name": "python",
   "nbconvert_exporter": "python",
   "pygments_lexer": "ipython3",
   "version": "3.13.5"
  }
 },
 "nbformat": 4,
 "nbformat_minor": 5
}
