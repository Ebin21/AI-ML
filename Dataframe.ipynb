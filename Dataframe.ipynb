{
 "cells": [
  {
   "cell_type": "code",
   "execution_count": 54,
   "id": "dfbe9195-b2e8-49ed-bf44-2916f41c8551",
   "metadata": {},
   "outputs": [],
   "source": [
    "from pandas import DataFrame"
   ]
  },
  {
   "cell_type": "code",
   "execution_count": 55,
   "id": "eb07d592-73aa-4e76-8400-7480b0bb94a6",
   "metadata": {},
   "outputs": [],
   "source": [
    "data={'name':['Ebin', 'Alex'],\n",
    "     'age':[25,64],\n",
    "     'salary' : [25, 10]}"
   ]
  },
  {
   "cell_type": "code",
   "execution_count": 56,
   "id": "b5c4eccf-be39-40b5-94ec-218ef1ced4a3",
   "metadata": {},
   "outputs": [
    {
     "data": {
      "text/html": [
       "<div>\n",
       "<style scoped>\n",
       "    .dataframe tbody tr th:only-of-type {\n",
       "        vertical-align: middle;\n",
       "    }\n",
       "\n",
       "    .dataframe tbody tr th {\n",
       "        vertical-align: top;\n",
       "    }\n",
       "\n",
       "    .dataframe thead th {\n",
       "        text-align: right;\n",
       "    }\n",
       "</style>\n",
       "<table border=\"1\" class=\"dataframe\">\n",
       "  <thead>\n",
       "    <tr style=\"text-align: right;\">\n",
       "      <th></th>\n",
       "      <th>name</th>\n",
       "      <th>age</th>\n",
       "      <th>salary</th>\n",
       "    </tr>\n",
       "  </thead>\n",
       "  <tbody>\n",
       "    <tr>\n",
       "      <th>0</th>\n",
       "      <td>Ebin</td>\n",
       "      <td>25</td>\n",
       "      <td>25</td>\n",
       "    </tr>\n",
       "    <tr>\n",
       "      <th>1</th>\n",
       "      <td>Alex</td>\n",
       "      <td>64</td>\n",
       "      <td>10</td>\n",
       "    </tr>\n",
       "  </tbody>\n",
       "</table>\n",
       "</div>"
      ],
      "text/plain": [
       "   name  age  salary\n",
       "0  Ebin   25      25\n",
       "1  Alex   64      10"
      ]
     },
     "execution_count": 56,
     "metadata": {},
     "output_type": "execute_result"
    }
   ],
   "source": [
    "frame=DataFrame(data)\n",
    "frame"
   ]
  },
  {
   "cell_type": "code",
   "execution_count": 70,
   "id": "e6824fdf-47d6-4656-9f04-28b6c5e75823",
   "metadata": {},
   "outputs": [
    {
     "data": {
      "text/html": [
       "<div>\n",
       "<style scoped>\n",
       "    .dataframe tbody tr th:only-of-type {\n",
       "        vertical-align: middle;\n",
       "    }\n",
       "\n",
       "    .dataframe tbody tr th {\n",
       "        vertical-align: top;\n",
       "    }\n",
       "\n",
       "    .dataframe thead th {\n",
       "        text-align: right;\n",
       "    }\n",
       "</style>\n",
       "<table border=\"1\" class=\"dataframe\">\n",
       "  <thead>\n",
       "    <tr style=\"text-align: right;\">\n",
       "      <th></th>\n",
       "      <th>name</th>\n",
       "      <th>salary</th>\n",
       "      <th>age</th>\n",
       "    </tr>\n",
       "  </thead>\n",
       "  <tbody>\n",
       "    <tr>\n",
       "      <th>0</th>\n",
       "      <td>Ebin</td>\n",
       "      <td>25</td>\n",
       "      <td>25</td>\n",
       "    </tr>\n",
       "    <tr>\n",
       "      <th>1</th>\n",
       "      <td>Alex</td>\n",
       "      <td>10</td>\n",
       "      <td>64</td>\n",
       "    </tr>\n",
       "  </tbody>\n",
       "</table>\n",
       "</div>"
      ],
      "text/plain": [
       "   name  salary  age\n",
       "0  Ebin      25   25\n",
       "1  Alex      10   64"
      ]
     },
     "execution_count": 70,
     "metadata": {},
     "output_type": "execute_result"
    }
   ],
   "source": [
    "newframe=DataFrame(data, columns=['name','salary', 'age'])\n",
    "newframe"
   ]
  },
  {
   "cell_type": "code",
   "execution_count": 71,
   "id": "c2e6e92e-9f18-487e-bb64-5afc87f7d170",
   "metadata": {},
   "outputs": [
    {
     "data": {
      "text/plain": [
       "name      Alex\n",
       "salary      10\n",
       "age         64\n",
       "Name: 1, dtype: object"
      ]
     },
     "execution_count": 71,
     "metadata": {},
     "output_type": "execute_result"
    }
   ],
   "source": [
    "newframe.loc[1]"
   ]
  },
  {
   "cell_type": "code",
   "execution_count": 80,
   "id": "9f4a942f-cc39-4577-a408-1f905fe516d0",
   "metadata": {},
   "outputs": [
    {
     "data": {
      "text/html": [
       "<div>\n",
       "<style scoped>\n",
       "    .dataframe tbody tr th:only-of-type {\n",
       "        vertical-align: middle;\n",
       "    }\n",
       "\n",
       "    .dataframe tbody tr th {\n",
       "        vertical-align: top;\n",
       "    }\n",
       "\n",
       "    .dataframe thead th {\n",
       "        text-align: right;\n",
       "    }\n",
       "</style>\n",
       "<table border=\"1\" class=\"dataframe\">\n",
       "  <thead>\n",
       "    <tr style=\"text-align: right;\">\n",
       "      <th></th>\n",
       "      <th>name</th>\n",
       "      <th>salary</th>\n",
       "      <th>age</th>\n",
       "      <th>profile</th>\n",
       "      <th>edu</th>\n",
       "      <th>(0, 2)</th>\n",
       "    </tr>\n",
       "  </thead>\n",
       "  <tbody>\n",
       "    <tr>\n",
       "      <th>0</th>\n",
       "      <td>Ebin</td>\n",
       "      <td>25</td>\n",
       "      <td>25</td>\n",
       "      <td>IT</td>\n",
       "      <td>BCA</td>\n",
       "      <td>NaN</td>\n",
       "    </tr>\n",
       "    <tr>\n",
       "      <th>1</th>\n",
       "      <td>Alex</td>\n",
       "      <td>10</td>\n",
       "      <td>64</td>\n",
       "      <td>tailor</td>\n",
       "      <td>10</td>\n",
       "      <td>NaN</td>\n",
       "    </tr>\n",
       "  </tbody>\n",
       "</table>\n",
       "</div>"
      ],
      "text/plain": [
       "   name  salary  age profile  edu (0, 2)\n",
       "0  Ebin      25   25      IT  BCA    NaN\n",
       "1  Alex      10   64  tailor   10    NaN"
      ]
     },
     "execution_count": 80,
     "metadata": {},
     "output_type": "execute_result"
    }
   ],
   "source": [
    "newframe['profile']='IT', 'tailor'\n",
    "newframe['edu']='BCA', '10'\n",
    "newframe"
   ]
  },
  {
   "cell_type": "code",
   "execution_count": 92,
   "id": "0ce1ac5a-ebc3-43ad-a0ed-edd9bd09fd37",
   "metadata": {},
   "outputs": [],
   "source": [
    "newframe.drop((0,2), axis=1, inplace=True)\n"
   ]
  },
  {
   "cell_type": "code",
   "execution_count": 99,
   "id": "26295f6e-6233-4be7-940b-313bde3bed22",
   "metadata": {
    "scrolled": true
   },
   "outputs": [],
   "source": [
    "newframe.loc[len(newframe)] = [\"Stella Alex\", 35, 50, 'House Wife', 10]"
   ]
  },
  {
   "cell_type": "code",
   "execution_count": 100,
   "id": "7ad411a9-e93f-4469-8724-819893add2da",
   "metadata": {
    "scrolled": true
   },
   "outputs": [
    {
     "data": {
      "text/html": [
       "<div>\n",
       "<style scoped>\n",
       "    .dataframe tbody tr th:only-of-type {\n",
       "        vertical-align: middle;\n",
       "    }\n",
       "\n",
       "    .dataframe tbody tr th {\n",
       "        vertical-align: top;\n",
       "    }\n",
       "\n",
       "    .dataframe thead th {\n",
       "        text-align: right;\n",
       "    }\n",
       "</style>\n",
       "<table border=\"1\" class=\"dataframe\">\n",
       "  <thead>\n",
       "    <tr style=\"text-align: right;\">\n",
       "      <th></th>\n",
       "      <th>name</th>\n",
       "      <th>salary</th>\n",
       "      <th>age</th>\n",
       "      <th>profile</th>\n",
       "      <th>edu</th>\n",
       "    </tr>\n",
       "  </thead>\n",
       "  <tbody>\n",
       "    <tr>\n",
       "      <th>0</th>\n",
       "      <td>Ebin</td>\n",
       "      <td>25</td>\n",
       "      <td>25</td>\n",
       "      <td>IT</td>\n",
       "      <td>BCA</td>\n",
       "    </tr>\n",
       "    <tr>\n",
       "      <th>1</th>\n",
       "      <td>Alex</td>\n",
       "      <td>10</td>\n",
       "      <td>64</td>\n",
       "      <td>tailor</td>\n",
       "      <td>10</td>\n",
       "    </tr>\n",
       "    <tr>\n",
       "      <th>2</th>\n",
       "      <td>Stella Alex</td>\n",
       "      <td>35</td>\n",
       "      <td>50</td>\n",
       "      <td>House Wife</td>\n",
       "      <td>10</td>\n",
       "    </tr>\n",
       "  </tbody>\n",
       "</table>\n",
       "</div>"
      ],
      "text/plain": [
       "          name  salary  age     profile  edu\n",
       "0         Ebin      25   25          IT  BCA\n",
       "1         Alex      10   64      tailor   10\n",
       "2  Stella Alex      35   50  House Wife   10"
      ]
     },
     "execution_count": 100,
     "metadata": {},
     "output_type": "execute_result"
    }
   ],
   "source": [
    "newframe"
   ]
  },
  {
   "cell_type": "code",
   "execution_count": 88,
   "id": "f0ebb323-6c32-4425-a69c-117cae2f3f4c",
   "metadata": {},
   "outputs": [
    {
     "data": {
      "text/html": [
       "<div>\n",
       "<style scoped>\n",
       "    .dataframe tbody tr th:only-of-type {\n",
       "        vertical-align: middle;\n",
       "    }\n",
       "\n",
       "    .dataframe tbody tr th {\n",
       "        vertical-align: top;\n",
       "    }\n",
       "\n",
       "    .dataframe thead th {\n",
       "        text-align: right;\n",
       "    }\n",
       "</style>\n",
       "<table border=\"1\" class=\"dataframe\">\n",
       "  <thead>\n",
       "    <tr style=\"text-align: right;\">\n",
       "      <th></th>\n",
       "      <th>name</th>\n",
       "      <th>salary</th>\n",
       "      <th>age</th>\n",
       "      <th>profile</th>\n",
       "      <th>edu</th>\n",
       "      <th>(0, 2)</th>\n",
       "    </tr>\n",
       "  </thead>\n",
       "  <tbody>\n",
       "    <tr>\n",
       "      <th>0</th>\n",
       "      <td>Ebin</td>\n",
       "      <td>25</td>\n",
       "      <td>25</td>\n",
       "      <td>IT</td>\n",
       "      <td>BCA</td>\n",
       "      <td>NaN</td>\n",
       "    </tr>\n",
       "    <tr>\n",
       "      <th>1</th>\n",
       "      <td>Alex</td>\n",
       "      <td>10</td>\n",
       "      <td>64</td>\n",
       "      <td>tailor</td>\n",
       "      <td>10</td>\n",
       "      <td>NaN</td>\n",
       "    </tr>\n",
       "  </tbody>\n",
       "</table>\n",
       "</div>"
      ],
      "text/plain": [
       "   name  salary  age profile  edu (0, 2)\n",
       "0  Ebin      25   25      IT  BCA    NaN\n",
       "1  Alex      10   64  tailor   10    NaN"
      ]
     },
     "execution_count": 88,
     "metadata": {},
     "output_type": "execute_result"
    }
   ],
   "source": [
    "newframe"
   ]
  },
  {
   "cell_type": "code",
   "execution_count": 110,
   "id": "497626b2-f9a2-452f-8676-c4e6d227d711",
   "metadata": {},
   "outputs": [],
   "source": [
    "from pandas import Series\n",
    "obj=Series([1,2,3], index=['a','b','c'])"
   ]
  },
  {
   "cell_type": "code",
   "execution_count": 111,
   "id": "b32fd88b-e524-4e8c-929f-a076084f60ba",
   "metadata": {},
   "outputs": [
    {
     "data": {
      "text/plain": [
       "a    1\n",
       "b    2\n",
       "c    3\n",
       "dtype: int64"
      ]
     },
     "execution_count": 111,
     "metadata": {},
     "output_type": "execute_result"
    }
   ],
   "source": [
    "obj\n"
   ]
  },
  {
   "cell_type": "code",
   "execution_count": 112,
   "id": "621420b3-9df3-4f16-bbb9-6a422f0d6535",
   "metadata": {},
   "outputs": [],
   "source": [
    "obj=obj.reindex(['a','c','b'])"
   ]
  },
  {
   "cell_type": "code",
   "execution_count": 113,
   "id": "4a925331-2aa7-431c-b08d-7d3bcb7dac39",
   "metadata": {},
   "outputs": [
    {
     "data": {
      "text/plain": [
       "a    1\n",
       "c    3\n",
       "b    2\n",
       "dtype: int64"
      ]
     },
     "execution_count": 113,
     "metadata": {},
     "output_type": "execute_result"
    }
   ],
   "source": [
    "obj"
   ]
  },
  {
   "cell_type": "code",
   "execution_count": null,
   "id": "f0208b50-f7da-4518-adaf-61991eabff94",
   "metadata": {},
   "outputs": [],
   "source": []
  },
  {
   "cell_type": "code",
   "execution_count": null,
   "id": "329cc0eb-74e0-4cf2-ba40-c80e8de11645",
   "metadata": {},
   "outputs": [],
   "source": []
  }
 ],
 "metadata": {
  "kernelspec": {
   "display_name": "Python [conda env:base] *",
   "language": "python",
   "name": "conda-base-py"
  },
  "language_info": {
   "codemirror_mode": {
    "name": "ipython",
    "version": 3
   },
   "file_extension": ".py",
   "mimetype": "text/x-python",
   "name": "python",
   "nbconvert_exporter": "python",
   "pygments_lexer": "ipython3",
   "version": "3.13.5"
  }
 },
 "nbformat": 4,
 "nbformat_minor": 5
}
