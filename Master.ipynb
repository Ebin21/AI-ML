{
 "cells": [
  {
   "cell_type": "code",
   "execution_count": 1,
   "id": "1f9aefd0-797b-4e3b-b608-825795cd26a1",
   "metadata": {},
   "outputs": [],
   "source": [
    "from pandas import Series\n",
    "se=Series([1,2,3,5,4])"
   ]
  },
  {
   "cell_type": "code",
   "execution_count": 2,
   "id": "8a8bef82-08c8-4157-ad3b-de7a78dd548d",
   "metadata": {},
   "outputs": [
    {
     "data": {
      "text/plain": [
       "0    1\n",
       "1    2\n",
       "2    3\n",
       "3    5\n",
       "4    4\n",
       "dtype: int64"
      ]
     },
     "execution_count": 2,
     "metadata": {},
     "output_type": "execute_result"
    }
   ],
   "source": [
    "se\n"
   ]
  },
  {
   "cell_type": "code",
   "execution_count": 4,
   "id": "03e2bacc-897a-48b5-81c2-e8b1d2baeeb5",
   "metadata": {},
   "outputs": [
    {
     "data": {
      "text/plain": [
       "a    1\n",
       "b    2\n",
       "c    3\n",
       "dtype: int64"
      ]
     },
     "execution_count": 4,
     "metadata": {},
     "output_type": "execute_result"
    }
   ],
   "source": [
    "sed=Series([1,2,3], index=['a','b','c'])\n",
    "sed"
   ]
  },
  {
   "cell_type": "code",
   "execution_count": null,
   "id": "3d087125-f226-459f-ad00-349b84c9bb74",
   "metadata": {},
   "outputs": [],
   "source": []
  }
 ],
 "metadata": {
  "kernelspec": {
   "display_name": "Python [conda env:base] *",
   "language": "python",
   "name": "conda-base-py"
  },
  "language_info": {
   "codemirror_mode": {
    "name": "ipython",
    "version": 3
   },
   "file_extension": ".py",
   "mimetype": "text/x-python",
   "name": "python",
   "nbconvert_exporter": "python",
   "pygments_lexer": "ipython3",
   "version": "3.13.5"
  }
 },
 "nbformat": 4,
 "nbformat_minor": 5
}
